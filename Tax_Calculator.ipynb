{
  "nbformat": 4,
  "nbformat_minor": 0,
  "metadata": {
    "colab": {
      "provenance": [],
      "include_colab_link": true
    },
    "kernelspec": {
      "name": "python3",
      "display_name": "Python 3"
    },
    "language_info": {
      "name": "python"
    }
  },
  "cells": [
    {
      "cell_type": "markdown",
      "metadata": {
        "id": "view-in-github",
        "colab_type": "text"
      },
      "source": [
        "<a href=\"https://colab.research.google.com/github/Sana-Ullah169/Python_Projects/blob/main/Tax_Calculator.ipynb\" target=\"_parent\"><img src=\"https://colab.research.google.com/assets/colab-badge.svg\" alt=\"Open In Colab\"/></a>"
      ]
    },
    {
      "cell_type": "markdown",
      "source": [
        "## Salary Tax Calculator (2024-25)"
      ],
      "metadata": {
        "id": "YYH808-OhxgF"
      }
    },
    {
      "cell_type": "code",
      "execution_count": 5,
      "metadata": {
        "colab": {
          "base_uri": "https://localhost:8080/"
        },
        "id": "fucwyDp0hOPZ",
        "outputId": "15bd8ab4-4964-4534-f44f-3a8d492f28ed"
      },
      "outputs": [
        {
          "output_type": "stream",
          "name": "stdout",
          "text": [
            "Please enter your gross monthly salary120000\n",
            "Monthly Tax on 120000 salary is: 5500.0 Rs\n"
          ]
        }
      ],
      "source": [
        "salary=int(input(\"Please enter your gross monthly salary\"))\n",
        "if salary <= 50000:\n",
        "    tax=0\n",
        "    print(\"Monthly Tax on {} salary is: {} Rs\".format(salary,tax))\n",
        "elif salary <= 100000:\n",
        "    tax=(salary-50000)*.05\n",
        "    print(\"Monthly Tax on {} salary is: {} Rs\".format(salary,tax))\n",
        "elif salary <= 183333.33:\n",
        "    tax=(salary-100000)*0.15+2500\n",
        "    print(\"Monthly Tax on {} salary is: {} Rs\".format(salary,tax))\n",
        "elif salary <= 266666.66:\n",
        "    tax=(salary-183333.33)*0.25+15000\n",
        "    print(\"Monthly Tax on {} salary is: {} RS\".format(salary,tax))\n",
        "elif salary <= 341666.66:\n",
        "    tax=(salary-266666.66)*0.3+35833.33\n",
        "    print(\"Monthly Tax on {} salary is: {} Rs\".format(salary,tax))\n",
        "else:\n",
        "    tax=(salary-341666.66)*0.35+58333.33\n",
        "    print(\"Monthly Tax on {} salary is: {} Rs\".format(salary,tax))"
      ]
    },
    {
      "cell_type": "code",
      "source": [],
      "metadata": {
        "id": "Q8j01rT5SNjm"
      },
      "execution_count": null,
      "outputs": []
    }
  ]
}