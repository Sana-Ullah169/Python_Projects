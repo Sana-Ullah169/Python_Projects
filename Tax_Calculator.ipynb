{
  "nbformat": 4,
  "nbformat_minor": 0,
  "metadata": {
    "colab": {
      "provenance": []
    },
    "kernelspec": {
      "name": "python3",
      "display_name": "Python 3"
    },
    "language_info": {
      "name": "python"
    }
  },
  "cells": [
    {
      "cell_type": "markdown",
      "source": [
        "## Salary Tax Calculator (2024-25)"
      ],
      "metadata": {
        "id": "YYH808-OhxgF"
      }
    },
    {
      "cell_type": "code",
      "execution_count": 3,
      "metadata": {
        "colab": {
          "base_uri": "https://localhost:8080/"
        },
        "id": "fucwyDp0hOPZ",
        "outputId": "fe257207-374c-405e-83ed-4103b6b33fcf"
      },
      "outputs": [
        {
          "output_type": "stream",
          "name": "stdout",
          "text": [
            "Please enter your gross monthly salary60000\n",
            "Monthly Tax on 60000 salary is: 500.0 Rs\n"
          ]
        }
      ],
      "source": [
        "salary=int(input(\"Please enter your gross monthly salary\"))\n",
        "if salary <= 50000:\n",
        "    print(\"Monthly Tax on {} salary is: {} Rs\".format(salary,taxable_salary))\n",
        "elif salary <= 100000:\n",
        "    taxable_salary=(salary-50000)*.05\n",
        "    print(\"Monthly Tax on {} salary is: {} Rs\".format(salary,taxable_salary))\n",
        "elif salary <= 183333.33:\n",
        "    taxable_salary=(salary-100000)*0.15+2500\n",
        "    print(\"Monthly Tax on {} salary is: {} Rs\".format(salary,taxable_salary))\n",
        "elif salary <= 266666.66:\n",
        "    taxable_salary=(salary-183333.33)*0.25+15000\n",
        "    print(\"Monthly Tax on {} salary is: {} RS\".format(salary,taxable_salary))\n",
        "elif salary <= 341666.66:\n",
        "    taxable_salary=(salary-266666.66)*0.3+35833.33\n",
        "    print(\"Monthly Tax on {} salary is: {} Rs\".format(salary,taxable_salary))\n",
        "else:\n",
        "    taxable_salary=(salary-341666.66)*0.35+58333.33\n",
        "    print(\"Monthly Tax on {} salary is: {} Rs\".format(salary,taxable_salary))"
      ]
    }
  ]
}